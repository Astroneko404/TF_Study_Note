{
  "nbformat": 4,
  "nbformat_minor": 0,
  "metadata": {
    "colab": {
      "name": "MNIST Digit.ipynb",
      "provenance": [],
      "collapsed_sections": [],
      "authorship_tag": "ABX9TyMwtFxBlOHzB3KKdbf3g2S7",
      "include_colab_link": true
    },
    "kernelspec": {
      "name": "python3",
      "display_name": "Python 3"
    }
  },
  "cells": [
    {
      "cell_type": "markdown",
      "metadata": {
        "id": "view-in-github",
        "colab_type": "text"
      },
      "source": [
        "<a href=\"https://colab.research.google.com/github/Astroneko404/TF_Study_Note/blob/master/MNIST%20Digit.ipynb\" target=\"_parent\"><img src=\"https://colab.research.google.com/assets/colab-badge.svg\" alt=\"Open In Colab\"/></a>"
      ]
    },
    {
      "cell_type": "code",
      "metadata": {
        "id": "GZ1wlYCKwhQT",
        "colab_type": "code",
        "colab": {}
      },
      "source": [
        "import matplotlib.pyplot as plt\n",
        "import numpy as np\n",
        "from sklearn import datasets\n",
        "from sklearn.model_selection import train_test_split\n",
        "import tensorflow as tf"
      ],
      "execution_count": null,
      "outputs": []
    },
    {
      "cell_type": "markdown",
      "metadata": {
        "id": "_9SGFxLbV4fa",
        "colab_type": "text"
      },
      "source": [
        "Softmax函数"
      ]
    },
    {
      "cell_type": "code",
      "metadata": {
        "id": "TpdUgFNTxOgg",
        "colab_type": "code",
        "colab": {}
      },
      "source": [
        "def softmax(x):\n",
        "    import numpy as np\n",
        "    return np.exp(x) / np.sum(np.exp(x), axis=0)"
      ],
      "execution_count": null,
      "outputs": []
    },
    {
      "cell_type": "markdown",
      "metadata": {
        "id": "3hil8ywxURK0",
        "colab_type": "text"
      },
      "source": [
        "### Test 1\n",
        "使用了sklearn的Digit Dataset（8*8）"
      ]
    },
    {
      "cell_type": "markdown",
      "metadata": {
        "id": "rSep6EO9W1ci",
        "colab_type": "text"
      },
      "source": [
        "##### 对Digit Dataset的预处理"
      ]
    },
    {
      "cell_type": "code",
      "metadata": {
        "id": "8oM6-HtBwsvi",
        "colab_type": "code",
        "colab": {
          "base_uri": "https://localhost:8080/"
        },
        "outputId": "012ecfbb-2373-4fb9-cbd7-33de9261f15c"
      },
      "source": [
        "digits = datasets.load_digits()\n",
        "\n",
        "# Flatten the image to a vector\n",
        "digits_flattened = []\n",
        "for img in digits.images:\n",
        "    digits_flattened.append(img.flatten())\n",
        "digits_flattened = np.array(digits_flattened)\n",
        "# digits_flattened = softmax(digits_flattened)\n",
        "\n",
        "print(len(digits_flattened[0]))"
      ],
      "execution_count": null,
      "outputs": [
        {
          "output_type": "stream",
          "text": [
            "64\n"
          ],
          "name": "stdout"
        }
      ]
    },
    {
      "cell_type": "code",
      "metadata": {
        "id": "D_CAVkXgRtkz",
        "colab_type": "code",
        "colab": {
          "base_uri": "https://localhost:8080/"
        },
        "outputId": "6704614f-6deb-4e3f-b41c-a3e5887bbd42"
      },
      "source": [
        "target_one_hot = []\n",
        "for result in digits.target:\n",
        "    new_row = [0 for i in range(10)]\n",
        "    new_row[result] = 1\n",
        "    target_one_hot.append(new_row)\n",
        "target_one_hot = np.array(target_one_hot)\n",
        "\n",
        "print(target_one_hot[:2])"
      ],
      "execution_count": null,
      "outputs": [
        {
          "output_type": "stream",
          "text": [
            "[[1 0 0 0 0 0 0 0 0 0]\n",
            " [0 1 0 0 0 0 0 0 0 0]]\n"
          ],
          "name": "stdout"
        }
      ]
    },
    {
      "cell_type": "code",
      "metadata": {
        "id": "T3ibCVovw3c5",
        "colab_type": "code",
        "colab": {
          "base_uri": "https://localhost:8080/"
        },
        "outputId": "aa2f840b-577a-4afd-8460-c8accd06d2da"
      },
      "source": [
        "X_train, X_test, y_train, y_test = train_test_split(digits_flattened,\n",
        "                                                    target_one_hot,\n",
        "                                                    random_state=0,\n",
        "                                                    shuffle=False,\n",
        "                                                    test_size=0.2\n",
        "                                                    )\n",
        "print(\"Train set has size {}\".format(len(X_train)))\n",
        "print(\"Test set has size {}\".format(len(X_test)))\n",
        "print(X_train[0])\n",
        "print(y_train[0])"
      ],
      "execution_count": null,
      "outputs": [
        {
          "output_type": "stream",
          "text": [
            "Train set has size 1437\n",
            "Test set has size 360\n",
            "[ 0.  0.  5. 13.  9.  1.  0.  0.  0.  0. 13. 15. 10. 15.  5.  0.  0.  3.\n",
            " 15.  2.  0. 11.  8.  0.  0.  4. 12.  0.  0.  8.  8.  0.  0.  5.  8.  0.\n",
            "  0.  9.  8.  0.  0.  4. 11.  0.  1. 12.  7.  0.  0.  2. 14.  5. 10. 12.\n",
            "  0.  0.  0.  0.  6. 13. 10.  0.  0.  0.]\n",
            "[1 0 0 0 0 0 0 0 0 0]\n"
          ],
          "name": "stdout"
        }
      ]
    },
    {
      "cell_type": "markdown",
      "metadata": {
        "id": "7gMiDgiDW_B5",
        "colab_type": "text"
      },
      "source": [
        "##### Tensorflow模型\n",
        "代码来自[TensorFlow入门(一) - mnist手写数字识别(网络搭建)](https://geektutu.com/post/tensorflow-mnist-simplest.html)"
      ]
    },
    {
      "cell_type": "code",
      "metadata": {
        "id": "l1lUBigtxa65",
        "colab_type": "code",
        "colab": {}
      },
      "source": [
        "class Network:\n",
        "    def __init__(self):\n",
        "        # 学习速率(一般在 0.00001 - 0.5 之间)\n",
        "        self.learning_rate = 0.01\n",
        "\n",
        "        # 图片一维向量\n",
        "        self.x = tf.compat.v1.placeholder(tf.float32, [None, 64])\n",
        "\n",
        "        # 标签值，即图像对应的结果，如果对应数字是8，则对应label是 [0,0,0,0,0,0,0,0,1,0]\n",
        "        # 这种方式称为 one-hot编码\n",
        "        # 标签是一个长度为10的一维向量，值最大的下标即图片上写的数字\n",
        "        self.label = tf.compat.v1.placeholder(tf.float32, [None, 10])\n",
        "\n",
        "        # 权重，初始化全 0\n",
        "        self.w = tf.Variable(tf.zeros([64, 10]))\n",
        "        # 偏置 bias，初始化全 0\n",
        "        self.b = tf.Variable(tf.zeros([10]))\n",
        "        # 输出 y = softmax(X * w + b)\n",
        "        self.y = tf.nn.softmax(tf.matmul(self.x, self.w) + self.b)\n",
        "\n",
        "        # 损失，即交叉熵，最常用的计算标签(label)与输出(y)之间差别的方法\n",
        "        self.loss = -tf.reduce_sum(input_tensor=self.label * tf.math.log(self.y + 1e-10))\n",
        "\n",
        "        # 反向传播，采用梯度下降的方法。调整w与b，使得损失(loss)最小\n",
        "        # loss越小，那么计算出来的y值与 标签(label)值越接近，准确率越高\n",
        "        self.train = tf.compat.v1.train.GradientDescentOptimizer(self.learning_rate).minimize(self.loss)\n",
        "\n",
        "        # 以下代码验证正确率时使用\n",
        "        # argmax 返回最大值的下标，最大值的下标即答案\n",
        "        # 例如 [0,0,0,0.9,0,0.1,0,0,0,0] 代表数字3\n",
        "        predict = tf.equal(tf.argmax(input=self.label, axis=1), tf.argmax(input=self.y, axis=1))\n",
        "\n",
        "        # predict -> [true, true, true, false, false, true]\n",
        "        # reduce_mean即求predict的平均数 即 正确个数 / 总数，即正确率\n",
        "        self.accuracy = tf.reduce_mean(input_tensor=tf.cast(predict, \"float\"))"
      ],
      "execution_count": null,
      "outputs": []
    },
    {
      "cell_type": "code",
      "metadata": {
        "id": "wT0DruUVAw46",
        "colab_type": "code",
        "colab": {
          "base_uri": "https://localhost:8080/"
        },
        "outputId": "d6767183-80e2-4ec2-de7d-678af0607413"
      },
      "source": [
        "class Train:\n",
        "    def __init__(self):\n",
        "        self.net = Network()\n",
        "\n",
        "        # 初始化 session\n",
        "        # Network() 只是构造了一张计算图，计算需要放到会话(session)中\n",
        "        self.sess = tf.compat.v1.Session()\n",
        "        # 初始化变量\n",
        "        self.sess.run(tf.compat.v1.global_variables_initializer())\n",
        "\n",
        "    def train(self):\n",
        "        # batch_size 是指每次迭代训练，传入训练的图片张数。\n",
        "        # 数据集小，可以使用全数据集，数据大的情况下，\n",
        "        # 为了提高训练速度，用随机抽取的n张图片来训练，效果与全数据集相近\n",
        "        # https://www.zhihu.com/question/32673260\n",
        "        batch_size = 70\n",
        "\n",
        "        # 总的训练次数\n",
        "        train_step = 20\n",
        "\n",
        "        # 开始训练\n",
        "        for i in range(train_step):\n",
        "            # 从数据集中获取 输入和标签(也就是答案)\n",
        "            x, label = X_train[i*batch_size:(i+1)*batch_size-1], y_train[i*batch_size:(i+1)*batch_size-1]\n",
        "\n",
        "            # 每次计算train，更新整个网络\n",
        "            # loss只是为了看到损失的大小，方便打印\n",
        "            _, loss = self.sess.run([self.net.train, self.net.loss],\n",
        "                                    feed_dict={self.net.x: x, self.net.label: label})\n",
        "\n",
        "            # 打印 loss，训练过程中将会看到，loss有变小的趋势\n",
        "            # 代表随着训练的进行，网络识别图像的能力提高\n",
        "            # 但是由于网络规模较小，后期没有明显下降，而是有明显波动\n",
        "            if (i + 1) % 10 == 0:\n",
        "                print('第%5d步，当前loss：%.2f' % (i + 1, loss))\n",
        "    \n",
        "    def calculate_accuracy(self):\n",
        "        test_x = X_test\n",
        "        test_label = y_test\n",
        "\n",
        "        # 注意：与训练不同的是，并没有计算 self.net.train\n",
        "        # 只计算了accuracy这个张量，所以不会更新网络\n",
        "        # 最终准确率约为0.91\n",
        "        accuracy = self.sess.run(self.net.accuracy,\n",
        "                                 feed_dict={self.net.x: test_x, self.net.label: test_label})\n",
        "        print(\"准确率: %.2f，共测试了%d张图片 \" % (accuracy, len(test_label)))\n",
        "\n",
        "if __name__ == \"__main__\":\n",
        "    tf.compat.v1.disable_eager_execution()\n",
        "    app = Train()\n",
        "    app.train()\n",
        "    app.calculate_accuracy()"
      ],
      "execution_count": null,
      "outputs": [
        {
          "output_type": "stream",
          "text": [
            "第   10步，当前loss：1174.32\n",
            "第   20步，当前loss：1036.16\n",
            "准确率: 0.28，共测试了360张图片 \n"
          ],
          "name": "stdout"
        }
      ]
    },
    {
      "cell_type": "markdown",
      "metadata": {
        "id": "x1c21knnk914",
        "colab_type": "text"
      },
      "source": [
        "### Test 2\n",
        "使用了MNIST数据集（原文版本）"
      ]
    },
    {
      "cell_type": "markdown",
      "metadata": {
        "id": "_FycM0D20Jiu",
        "colab_type": "text"
      },
      "source": [
        "##### MNIST Dataset预处理"
      ]
    },
    {
      "cell_type": "code",
      "metadata": {
        "id": "RBOM5sXlxdTR",
        "colab_type": "code",
        "colab": {
          "base_uri": "https://localhost:8080/"
        },
        "outputId": "67b50cda-67b1-462f-d299-7e58c7113ecc"
      },
      "source": [
        "data = tf.keras.datasets.mnist.load_data()\n",
        "X_train, y_train, X_test, y_test = data[0][0], data[0][1], data[1][0], data[1][1]\n",
        "\n",
        "# Flatten the image to a vector\n",
        "X_train_flattened = []\n",
        "for img in X_train:\n",
        "    X_train_flattened.append(img.flatten())\n",
        "X_train_flattened = np.array(X_train_flattened) / 255.0\n",
        "\n",
        "X_test_flattened = []\n",
        "for img in X_test:\n",
        "    X_test_flattened.append(img.flatten())\n",
        "X_test_flattened = np.array(X_test_flattened) / 255.0\n",
        "\n",
        "# One-hot transform\n",
        "y_train_one_hot = []\n",
        "for result in y_train:\n",
        "    new_row = [0 for i in range(10)]\n",
        "    new_row[result] = 1\n",
        "    y_train_one_hot.append(new_row)\n",
        "y_train_one_hot = np.array(y_train_one_hot)\n",
        "\n",
        "y_test_one_hot = []\n",
        "for result in y_test:\n",
        "    new_row = [0 for i in range(10)]\n",
        "    new_row[result] = 1\n",
        "    y_test_one_hot.append(new_row)\n",
        "y_test_one_hot = np.array(y_test_one_hot)\n",
        "\n",
        "print(\"X_train:\", X_train_flattened.shape)\n",
        "print(\"y_train:\", y_train_one_hot.shape)\n",
        "print(\"X_test:\", X_test_flattened.shape)\n",
        "print(\"y_test:\", y_test_one_hot.shape)"
      ],
      "execution_count": null,
      "outputs": [
        {
          "output_type": "stream",
          "text": [
            "X_train: (60000, 784)\n",
            "y_train: (60000, 10)\n",
            "X_test: (10000, 784)\n",
            "y_test: (10000, 10)\n"
          ],
          "name": "stdout"
        }
      ]
    },
    {
      "cell_type": "markdown",
      "metadata": {
        "id": "z3hHy12B0PMH",
        "colab_type": "text"
      },
      "source": [
        "##### 模型"
      ]
    },
    {
      "cell_type": "code",
      "metadata": {
        "id": "x1oyQQsfkhst",
        "colab_type": "code",
        "colab": {}
      },
      "source": [
        "class Network:\n",
        "    def __init__(self):\n",
        "        # 学习速率(一般在 0.00001 - 0.5 之间)\n",
        "        self.learning_rate = 0.0001\n",
        "\n",
        "        # 图片一维向量\n",
        "        self.x = tf.compat.v1.placeholder(tf.float32, [None, 784])\n",
        "\n",
        "        # 标签值，即图像对应的结果，如果对应数字是8，则对应label是 [0,0,0,0,0,0,0,0,1,0]\n",
        "        # 这种方式称为 one-hot编码\n",
        "        # 标签是一个长度为10的一维向量，值最大的下标即图片上写的数字\n",
        "        self.label = tf.compat.v1.placeholder(tf.float32, [None, 10])\n",
        "\n",
        "        # 权重，初始化全 0\n",
        "        self.w = tf.Variable(tf.zeros([784, 10]))\n",
        "        # 偏置 bias，初始化全 0\n",
        "        self.b = tf.Variable(tf.zeros([10]))\n",
        "        # 输出 y = softmax(X * w + b)\n",
        "        self.y = tf.nn.softmax(tf.matmul(self.x, self.w) + self.b)\n",
        "\n",
        "        # 损失，即交叉熵，最常用的计算标签(label)与输出(y)之间差别的方法\n",
        "        self.loss = -tf.reduce_sum(input_tensor=self.label * tf.math.log(self.y + 1e-10))\n",
        "\n",
        "        # 反向传播，采用梯度下降的方法。调整w与b，使得损失(loss)最小\n",
        "        # loss越小，那么计算出来的y值与 标签(label)值越接近，准确率越高\n",
        "        self.train = tf.compat.v1.train.GradientDescentOptimizer(self.learning_rate).minimize(self.loss)\n",
        "\n",
        "        # 以下代码验证正确率时使用\n",
        "        # argmax 返回最大值的下标，最大值的下标即答案\n",
        "        # 例如 [0,0,0,0.9,0,0.1,0,0,0,0] 代表数字3\n",
        "        predict = tf.equal(tf.argmax(input=self.label, axis=1), tf.argmax(input=self.y, axis=1))\n",
        "\n",
        "        # predict -> [true, true, true, false, false, true]\n",
        "        # reduce_mean即求predict的平均数 即 正确个数 / 总数，即正确率\n",
        "        self.accuracy = tf.reduce_mean(input_tensor=tf.cast(predict, \"float\"))"
      ],
      "execution_count": null,
      "outputs": []
    },
    {
      "cell_type": "code",
      "metadata": {
        "id": "bejp3zn0lNhL",
        "colab_type": "code",
        "colab": {
          "base_uri": "https://localhost:8080/"
        },
        "outputId": "42664173-edee-4084-fa3b-4516c7dfc931"
      },
      "source": [
        "# from tensorflow.examples.tutorials.mnist import input_data\n",
        "\n",
        "class Train:\n",
        "    def __init__(self):\n",
        "        self.net = Network()\n",
        "\n",
        "        # 初始化 session\n",
        "        # Network() 只是构造了一张计算图，计算需要放到会话(session)中\n",
        "        self.sess = tf.compat.v1.Session()\n",
        "        # 初始化变量\n",
        "        self.sess.run(tf.compat.v1.global_variables_initializer())\n",
        "\n",
        "    def train(self):\n",
        "        # batch_size 是指每次迭代训练，传入训练的图片张数。\n",
        "        # 数据集小，可以使用全数据集，数据大的情况下，\n",
        "        # 为了提高训练速度，用随机抽取的n张图片来训练，效果与全数据集相近\n",
        "        # https://www.zhihu.com/question/32673260\n",
        "        batch_size = 5120\n",
        "\n",
        "        # 总的训练次数\n",
        "        train_step = 1000\n",
        "\n",
        "        # 开始训练\n",
        "        for i in range(train_step):\n",
        "            x, label = X_train_flattened[i*batch_size:(i+1)*batch_size-1],\\\n",
        "                       y_train_one_hot[i*batch_size:(i+1)*batch_size-1]\n",
        "\n",
        "            # 每次计算train，更新整个网络\n",
        "            # loss只是为了看到损失的大小，方便打印\n",
        "            _, loss = self.sess.run([self.net.train, self.net.loss],\n",
        "                                    feed_dict={self.net.x: x, self.net.label: label})\n",
        "\n",
        "            # 打印 loss，训练过程中将会看到，loss有变小的趋势\n",
        "            # 代表随着训练的进行，网络识别图像的能力提高\n",
        "            # 但是由于网络规模较小，后期没有明显下降，而是有明显波动\n",
        "            if (i + 1) % 500 == 0:\n",
        "                print('第%5d步，当前loss：%.2f' % (i + 1, loss))\n",
        "    \n",
        "    def calculate_accuracy(self):\n",
        "        test_x = X_test_flattened\n",
        "        test_label = y_test_one_hot\n",
        "\n",
        "        accuracy = self.sess.run(self.net.accuracy,\n",
        "                                 feed_dict={self.net.x: test_x, self.net.label: test_label})\n",
        "        print(\"准确率: %.2f，共测试了%d张图片 \" % (accuracy, len(test_label)))\n",
        "\n",
        "if __name__ == \"__main__\":\n",
        "    print(\"Tensorflow version:\", tf.__version__)\n",
        "    tf.compat.v1.disable_eager_execution()\n",
        "    app = Train()\n",
        "    app.train()\n",
        "    app.calculate_accuracy()"
      ],
      "execution_count": null,
      "outputs": [
        {
          "output_type": "stream",
          "text": [
            "Tensorflow version: 2.3.0\n",
            "第  500步，当前loss：-0.00\n",
            "第 1000步，当前loss：-0.00\n",
            "准确率: 0.86，共测试了10000张图片 \n"
          ],
          "name": "stdout"
        }
      ]
    },
    {
      "cell_type": "code",
      "metadata": {
        "id": "3Pf2hxg7zf8C",
        "colab_type": "code",
        "colab": {}
      },
      "source": [
        ""
      ],
      "execution_count": null,
      "outputs": []
    },
    {
      "cell_type": "markdown",
      "metadata": {
        "id": "QQFZlNvxelzD",
        "colab_type": "text"
      },
      "source": [
        "### Test 3\n",
        "LSTM模型+MNIST数据集"
      ]
    },
    {
      "cell_type": "markdown",
      "metadata": {
        "id": "m-ULQFrzeNpu",
        "colab_type": "text"
      },
      "source": [
        "##### 数据处理"
      ]
    },
    {
      "cell_type": "code",
      "metadata": {
        "id": "cW_48Z0-dr0X",
        "colab_type": "code",
        "colab": {
          "base_uri": "https://localhost:8080/",
          "height": 108
        },
        "outputId": "6c4cb62f-5b1f-4d90-fc6c-11e0227770a6"
      },
      "source": [
        "data = tf.keras.datasets.mnist.load_data()\n",
        "X_train, y_train, X_test, y_test = data[0][0], data[0][1], data[1][0], data[1][1]\n",
        "\n",
        "X_train, X_test = X_train / 255.0, X_test / 255.0\n",
        "\n",
        "# y_train_one_hot = []\n",
        "# for result in y_train:\n",
        "#     new_row = [0 for i in range(10)]\n",
        "#     new_row[result] = 1\n",
        "#     y_train_one_hot.append(new_row)\n",
        "# y_train_one_hot = np.array(y_train_one_hot)\n",
        "\n",
        "# y_test_one_hot = []\n",
        "# for result in y_test:\n",
        "#     new_row = [0 for i in range(10)]\n",
        "#     new_row[result] = 1\n",
        "#     y_test_one_hot.append(new_row)\n",
        "# y_test_one_hot = np.array(y_test_one_hot)\n",
        "\n",
        "print(\"X_train:\", X_train.shape)\n",
        "print(\"y_train:\", y_train.shape)\n",
        "print(\"X_test:\", X_test.shape)\n",
        "print(\"y_test:\", y_test.shape)"
      ],
      "execution_count": null,
      "outputs": [
        {
          "output_type": "stream",
          "text": [
            "[5 0 4 ... 5 6 8]\n",
            "X_train: (60000, 28, 28)\n",
            "y_train: (60000, 10)\n",
            "X_test: (10000, 28, 28)\n",
            "y_test: (10000, 10)\n"
          ],
          "name": "stdout"
        }
      ]
    },
    {
      "cell_type": "markdown",
      "metadata": {
        "id": "_gmO5I_Td-OW",
        "colab_type": "text"
      },
      "source": [
        "##### 模型"
      ]
    },
    {
      "cell_type": "code",
      "metadata": {
        "id": "vYvesjQleqqi",
        "colab_type": "code",
        "colab": {}
      },
      "source": [
        "from tensorflow.keras import models, layers, optimizers\n",
        "\n",
        "inputs = layers.Input(shape=(28, 28), name='inputs')\n",
        "lstm = layers.LSTM(units=128, return_sequences=False)(inputs)\n",
        "outputs = layers.Dense(10, activation='softmax')(lstm)\n",
        "lstm = tf.keras.Model(inputs, outputs)"
      ],
      "execution_count": null,
      "outputs": []
    },
    {
      "cell_type": "code",
      "metadata": {
        "id": "74VLRLxllLBi",
        "colab_type": "code",
        "colab": {
          "base_uri": "https://localhost:8080/",
          "height": 271
        },
        "outputId": "011cd0a5-f0a6-470e-b3fd-181fb7300244"
      },
      "source": [
        "lstm.compile(optimizer=tf.keras.optimizers.Adam(0.001),\n",
        "             loss='sparse_categorical_crossentropy',\n",
        "             metrics=['accuracy'])\n",
        "lstm.summary()"
      ],
      "execution_count": null,
      "outputs": [
        {
          "output_type": "stream",
          "text": [
            "Model: \"functional_5\"\n",
            "_________________________________________________________________\n",
            "Layer (type)                 Output Shape              Param #   \n",
            "=================================================================\n",
            "inputs (InputLayer)          [(None, 28, 28)]          0         \n",
            "_________________________________________________________________\n",
            "lstm_3 (LSTM)                (None, 128)               80384     \n",
            "_________________________________________________________________\n",
            "dense_3 (Dense)              (None, 10)                1290      \n",
            "=================================================================\n",
            "Total params: 81,674\n",
            "Trainable params: 81,674\n",
            "Non-trainable params: 0\n",
            "_________________________________________________________________\n"
          ],
          "name": "stdout"
        }
      ]
    },
    {
      "cell_type": "code",
      "metadata": {
        "id": "j03XBBAJDPWv",
        "colab_type": "code",
        "colab": {
          "base_uri": "https://localhost:8080/",
          "height": 235
        },
        "outputId": "a1c3134e-8a1c-40b1-e782-711195d015a1"
      },
      "source": [
        "lstm.fit(X_train, y_train, batch_size=32, epochs=5, validation_split=0.1)\n",
        "lstm.evaluate(X_test,  y_test, verbose=2)"
      ],
      "execution_count": null,
      "outputs": [
        {
          "output_type": "stream",
          "text": [
            "Train on 54000 samples, validate on 6000 samples\n",
            "Epoch 1/5\n",
            "54000/54000 [==============================] - 48s 887us/sample - loss: 0.0475 - accuracy: 0.9851 - val_loss: 0.0478 - val_accuracy: 0.9872\n",
            "Epoch 2/5\n",
            "54000/54000 [==============================] - 49s 909us/sample - loss: 0.0395 - accuracy: 0.9880 - val_loss: 0.0490 - val_accuracy: 0.9872\n",
            "Epoch 3/5\n",
            "54000/54000 [==============================] - 49s 906us/sample - loss: 0.0329 - accuracy: 0.9900 - val_loss: 0.0483 - val_accuracy: 0.9878\n",
            "Epoch 4/5\n",
            "54000/54000 [==============================] - 49s 898us/sample - loss: 0.0294 - accuracy: 0.9907 - val_loss: 0.0413 - val_accuracy: 0.9880\n",
            "Epoch 5/5\n",
            "54000/54000 [==============================] - 49s 902us/sample - loss: 0.0249 - accuracy: 0.9921 - val_loss: 0.0439 - val_accuracy: 0.9882\n"
          ],
          "name": "stdout"
        },
        {
          "output_type": "execute_result",
          "data": {
            "text/plain": [
              "[0.05914884710437618, 0.9813]"
            ]
          },
          "metadata": {
            "tags": []
          },
          "execution_count": 41
        }
      ]
    }
  ]
}