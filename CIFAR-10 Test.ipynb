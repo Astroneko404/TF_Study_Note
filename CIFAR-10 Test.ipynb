{
  "nbformat": 4,
  "nbformat_minor": 0,
  "metadata": {
    "colab": {
      "name": "CIFAR-10 Test.ipynb",
      "provenance": [],
      "collapsed_sections": [],
      "authorship_tag": "ABX9TyNi/SGL26TUzOdc1tynK71N",
      "include_colab_link": true
    },
    "kernelspec": {
      "name": "python3",
      "display_name": "Python 3"
    }
  },
  "cells": [
    {
      "cell_type": "markdown",
      "metadata": {
        "id": "view-in-github",
        "colab_type": "text"
      },
      "source": [
        "<a href=\"https://colab.research.google.com/github/Astroneko404/TF_Study_Note/blob/master/CIFAR-10%20Test.ipynb\" target=\"_parent\"><img src=\"https://colab.research.google.com/assets/colab-badge.svg\" alt=\"Open In Colab\"/></a>"
      ]
    },
    {
      "cell_type": "code",
      "metadata": {
        "id": "5olfesm8qnSO",
        "colab_type": "code",
        "colab": {}
      },
      "source": [
        "import tensorflow as tf"
      ],
      "execution_count": 5,
      "outputs": []
    },
    {
      "cell_type": "code",
      "metadata": {
        "id": "U8Batr80rhQc",
        "colab_type": "code",
        "colab": {
          "base_uri": "https://localhost:8080/",
          "height": 53
        },
        "outputId": "cde24802-1e63-4bb5-cb6c-99c00fdbd2ed"
      },
      "source": [
        "tf.config.experimental_run_functions_eagerly(True)\n",
        "(x_train, y_train), (x_test, y_test) = tf.keras.datasets.cifar10.load_data()\n",
        "x_train, x_test = x_train / 255.0, x_test / 255.0"
      ],
      "execution_count": 6,
      "outputs": [
        {
          "output_type": "stream",
          "text": [
            "Downloading data from https://www.cs.toronto.edu/~kriz/cifar-10-python.tar.gz\n",
            "170500096/170498071 [==============================] - 4s 0us/step\n"
          ],
          "name": "stdout"
        }
      ]
    },
    {
      "cell_type": "code",
      "metadata": {
        "id": "mqKdAf0Trxlb",
        "colab_type": "code",
        "colab": {
          "base_uri": "https://localhost:8080/",
          "height": 90
        },
        "outputId": "680dad65-ac6a-4ea5-b59c-e49268a9528a"
      },
      "source": [
        "# Flattening\n",
        "x_train_flattened = x_train.reshape(x_train.shape[0], 32*32*3)\n",
        "x_test_flattened = x_test.reshape(x_test.shape[0], 32*32*3)\n",
        "\n",
        "# Gray-scale\n",
        "x_train_gray = tf.image.rgb_to_grayscale(x_train)\n",
        "x_test_gray = tf.image.rgb_to_grayscale(x_test)\n",
        "\n",
        "print(\"x_train:\", x_train.shape)\n",
        "print(\"x_test:\", x_test.shape)\n",
        "print(\"x_train_flattened:\", x_train_flattened.shape)\n",
        "print(\"x_train_grayscale:\", x_train_gray.shape)"
      ],
      "execution_count": 7,
      "outputs": [
        {
          "output_type": "stream",
          "text": [
            "x_train: (50000, 32, 32, 3)\n",
            "x_test: (10000, 32, 32, 3)\n",
            "x_train_flattened: (50000, 3072)\n",
            "x_train_grayscale: (50000, 32, 32, 1)\n"
          ],
          "name": "stdout"
        }
      ]
    },
    {
      "cell_type": "code",
      "metadata": {
        "id": "sKikBR2Lvs3F",
        "colab_type": "code",
        "colab": {
          "base_uri": "https://localhost:8080/",
          "height": 35
        },
        "outputId": "37852e92-9b13-4d05-ff8f-a27622f88563"
      },
      "source": [
        "print(\"y_train\", y_train.shape) # Labels ranging from 0 to 9"
      ],
      "execution_count": 8,
      "outputs": [
        {
          "output_type": "stream",
          "text": [
            "y_train (50000, 1)\n"
          ],
          "name": "stdout"
        }
      ]
    },
    {
      "cell_type": "markdown",
      "metadata": {
        "id": "9R_FfX21K3qP",
        "colab_type": "text"
      },
      "source": [
        "### 1. Using LSTM\n",
        "Image sets are preprocessed using *tf.image.rgb_to_grayscale()*"
      ]
    },
    {
      "cell_type": "code",
      "metadata": {
        "id": "G3KI9ugqw1SC",
        "colab_type": "code",
        "colab": {
          "base_uri": "https://localhost:8080/",
          "height": 271
        },
        "outputId": "a7674336-57eb-41bb-b22f-4c29c1792ffc"
      },
      "source": [
        "from tensorflow.keras import models, layers, optimizers\n",
        "\n",
        "inputs = layers.Input(shape=(32, 32), name='inputs')\n",
        "lstm_layer = layers.LSTM(units=256, return_sequences=False)(inputs)\n",
        "outputs = layers.Dense(10, activation='softmax')(lstm_layer)\n",
        "lstm = tf.keras.Model(inputs, outputs)\n",
        "\n",
        "lstm.compile(optimizer=tf.keras.optimizers.Adam(0.001),\n",
        "             loss='sparse_categorical_crossentropy',\n",
        "             metrics=['accuracy'])\n",
        "lstm.summary()"
      ],
      "execution_count": 10,
      "outputs": [
        {
          "output_type": "stream",
          "text": [
            "Model: \"functional_1\"\n",
            "_________________________________________________________________\n",
            "Layer (type)                 Output Shape              Param #   \n",
            "=================================================================\n",
            "inputs (InputLayer)          [(None, 32, 32)]          0         \n",
            "_________________________________________________________________\n",
            "lstm_1 (LSTM)                (None, 256)               295936    \n",
            "_________________________________________________________________\n",
            "dense (Dense)                (None, 10)                2570      \n",
            "=================================================================\n",
            "Total params: 298,506\n",
            "Trainable params: 298,506\n",
            "Non-trainable params: 0\n",
            "_________________________________________________________________\n"
          ],
          "name": "stdout"
        }
      ]
    },
    {
      "cell_type": "code",
      "metadata": {
        "id": "yVUAbPlr00NK",
        "colab_type": "code",
        "colab": {
          "base_uri": "https://localhost:8080/",
          "height": 291
        },
        "outputId": "e090f1a4-8fe2-4088-e742-1526ee224e03"
      },
      "source": [
        "lstm.fit(x_train_gray, y_train, batch_size=32, epochs=5, validation_split=0.1)\n",
        "lstm.evaluate(x_test_gray,  y_test, verbose=2)"
      ],
      "execution_count": 12,
      "outputs": [
        {
          "output_type": "stream",
          "text": [
            "/usr/local/lib/python3.6/dist-packages/tensorflow/python/data/ops/dataset_ops.py:3350: UserWarning: Even though the tf.config.experimental_run_functions_eagerly option is set, this option does not apply to tf.data functions. tf.data functions are still traced and executed as graphs.\n",
            "  \"Even though the tf.config.experimental_run_functions_eagerly \"\n"
          ],
          "name": "stderr"
        },
        {
          "output_type": "stream",
          "text": [
            "Epoch 1/5\n",
            "1407/1407 [==============================] - 254s 180ms/step - loss: 1.9118 - accuracy: 0.3000 - val_loss: 1.7485 - val_accuracy: 0.3728\n",
            "Epoch 2/5\n",
            "1407/1407 [==============================] - 241s 171ms/step - loss: 1.6902 - accuracy: 0.3913 - val_loss: 1.6096 - val_accuracy: 0.4222\n",
            "Epoch 3/5\n",
            "1407/1407 [==============================] - 240s 171ms/step - loss: 1.5638 - accuracy: 0.4393 - val_loss: 1.5362 - val_accuracy: 0.4408\n",
            "Epoch 4/5\n",
            "1407/1407 [==============================] - 257s 183ms/step - loss: 1.4709 - accuracy: 0.4729 - val_loss: 1.4554 - val_accuracy: 0.4828\n",
            "Epoch 5/5\n",
            "1407/1407 [==============================] - 253s 180ms/step - loss: 1.3908 - accuracy: 0.5025 - val_loss: 1.3996 - val_accuracy: 0.4972\n",
            "313/313 - 21s - loss: 1.4280 - accuracy: 0.4931\n"
          ],
          "name": "stdout"
        },
        {
          "output_type": "execute_result",
          "data": {
            "text/plain": [
              "[1.4280476570129395, 0.49309998750686646]"
            ]
          },
          "metadata": {
            "tags": []
          },
          "execution_count": 12
        }
      ]
    },
    {
      "cell_type": "markdown",
      "metadata": {
        "id": "hJHbqnWtXZ5l",
        "colab_type": "text"
      },
      "source": [
        "### 2. Using CNN"
      ]
    },
    {
      "cell_type": "code",
      "metadata": {
        "id": "MeUGiqqkMdeJ",
        "colab_type": "code",
        "colab": {
          "base_uri": "https://localhost:8080/",
          "height": 453
        },
        "outputId": "6e82d577-b1bd-42e6-e02e-0c5340b07a6a"
      },
      "source": [
        "model = tf.keras.Sequential([\n",
        "    tf.keras.layers.Conv2D(32, (3, 3), activation='relu', input_shape=(32, 32, 3)),\n",
        "    tf.keras.layers.MaxPooling2D((2,2)),\n",
        "    tf.keras.layers.Conv2D(64, (3, 3), activation='relu'),\n",
        "    tf.keras.layers.MaxPooling2D((2, 2)),\n",
        "    tf.keras.layers.Conv2D(64, (3, 3), activation='relu'),\n",
        "    tf.keras.layers.Flatten(),\n",
        "    tf.keras.layers.Dense(64,activation='relu'),\n",
        "    tf.keras.layers.Dense(10,activation='softmax')\n",
        "])\n",
        "\n",
        "model.compile(optimizer='adam',\n",
        "              loss='sparse_categorical_crossentropy',\n",
        "              metrics=['accuracy'])\n",
        "model.summary()"
      ],
      "execution_count": 18,
      "outputs": [
        {
          "output_type": "stream",
          "text": [
            "Model: \"sequential_3\"\n",
            "_________________________________________________________________\n",
            "Layer (type)                 Output Shape              Param #   \n",
            "=================================================================\n",
            "conv2d_10 (Conv2D)           (None, 30, 30, 32)        896       \n",
            "_________________________________________________________________\n",
            "max_pooling2d_6 (MaxPooling2 (None, 15, 15, 32)        0         \n",
            "_________________________________________________________________\n",
            "conv2d_11 (Conv2D)           (None, 13, 13, 64)        18496     \n",
            "_________________________________________________________________\n",
            "max_pooling2d_7 (MaxPooling2 (None, 6, 6, 64)          0         \n",
            "_________________________________________________________________\n",
            "conv2d_12 (Conv2D)           (None, 4, 4, 64)          36928     \n",
            "_________________________________________________________________\n",
            "flatten_4 (Flatten)          (None, 1024)              0         \n",
            "_________________________________________________________________\n",
            "dense_9 (Dense)              (None, 64)                65600     \n",
            "_________________________________________________________________\n",
            "dense_10 (Dense)             (None, 10)                650       \n",
            "=================================================================\n",
            "Total params: 122,570\n",
            "Trainable params: 122,570\n",
            "Non-trainable params: 0\n",
            "_________________________________________________________________\n"
          ],
          "name": "stdout"
        }
      ]
    },
    {
      "cell_type": "code",
      "metadata": {
        "id": "qzX03j95eO_2",
        "colab_type": "code",
        "colab": {
          "base_uri": "https://localhost:8080/",
          "height": 400
        },
        "outputId": "de6e506c-5486-4e58-fc55-dc2497edd4a9"
      },
      "source": [
        "model.fit(x_train, y_train, batch_size=32, epochs=8, validation_split=0.1)\n",
        "model.evaluate(x_test, y_test, verbose=2)"
      ],
      "execution_count": 20,
      "outputs": [
        {
          "output_type": "stream",
          "text": [
            "Epoch 1/8\n",
            "   2/1407 [..............................] - ETA: 44s - loss: 2.0759 - accuracy: 0.1875"
          ],
          "name": "stdout"
        },
        {
          "output_type": "stream",
          "text": [
            "/usr/local/lib/python3.6/dist-packages/tensorflow/python/data/ops/dataset_ops.py:3350: UserWarning: Even though the tf.config.experimental_run_functions_eagerly option is set, this option does not apply to tf.data functions. tf.data functions are still traced and executed as graphs.\n",
            "  \"Even though the tf.config.experimental_run_functions_eagerly \"\n"
          ],
          "name": "stderr"
        },
        {
          "output_type": "stream",
          "text": [
            "1407/1407 [==============================] - 107s 76ms/step - loss: 1.5025 - accuracy: 0.4532 - val_loss: 1.2808 - val_accuracy: 0.5530\n",
            "Epoch 2/8\n",
            "1407/1407 [==============================] - 106s 75ms/step - loss: 1.1805 - accuracy: 0.5828 - val_loss: 1.0987 - val_accuracy: 0.6172\n",
            "Epoch 3/8\n",
            "1407/1407 [==============================] - 107s 76ms/step - loss: 1.0391 - accuracy: 0.6326 - val_loss: 0.9880 - val_accuracy: 0.6524\n",
            "Epoch 4/8\n",
            "1407/1407 [==============================] - 107s 76ms/step - loss: 0.9368 - accuracy: 0.6690 - val_loss: 0.9461 - val_accuracy: 0.6742\n",
            "Epoch 5/8\n",
            "1407/1407 [==============================] - 105s 75ms/step - loss: 0.8615 - accuracy: 0.6968 - val_loss: 0.9095 - val_accuracy: 0.6842\n",
            "Epoch 6/8\n",
            "1407/1407 [==============================] - 106s 75ms/step - loss: 0.8034 - accuracy: 0.7189 - val_loss: 0.8301 - val_accuracy: 0.7094\n",
            "Epoch 7/8\n",
            "1407/1407 [==============================] - 105s 75ms/step - loss: 0.7441 - accuracy: 0.7379 - val_loss: 0.8883 - val_accuracy: 0.6896\n",
            "Epoch 8/8\n",
            "1407/1407 [==============================] - 105s 74ms/step - loss: 0.6988 - accuracy: 0.7535 - val_loss: 0.8457 - val_accuracy: 0.7130\n",
            "313/313 - 8s - loss: 0.8998 - accuracy: 0.6969\n"
          ],
          "name": "stdout"
        },
        {
          "output_type": "execute_result",
          "data": {
            "text/plain": [
              "[0.8997931480407715, 0.6969000101089478]"
            ]
          },
          "metadata": {
            "tags": []
          },
          "execution_count": 20
        }
      ]
    }
  ]
}