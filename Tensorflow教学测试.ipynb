{
  "nbformat": 4,
  "nbformat_minor": 0,
  "metadata": {
    "colab": {
      "name": "Tensorflow教学测试",
      "provenance": [],
      "collapsed_sections": [],
      "authorship_tag": "ABX9TyM0Tk1FEq711Gliqa8uIjAm",
      "include_colab_link": true
    },
    "kernelspec": {
      "name": "python3",
      "display_name": "Python 3"
    }
  },
  "cells": [
    {
      "cell_type": "markdown",
      "metadata": {
        "id": "view-in-github",
        "colab_type": "text"
      },
      "source": [
        "<a href=\"https://colab.research.google.com/github/Astroneko404/TF_Study_Note/blob/master/Tensorflow%E6%95%99%E5%AD%A6%E6%B5%8B%E8%AF%95.ipynb\" target=\"_parent\"><img src=\"https://colab.research.google.com/assets/colab-badge.svg\" alt=\"Open In Colab\"/></a>"
      ]
    },
    {
      "cell_type": "markdown",
      "metadata": {
        "id": "1fVtsmmyl5oj",
        "colab_type": "text"
      },
      "source": [
        "#### 基础加法，乘法"
      ]
    },
    {
      "cell_type": "code",
      "metadata": {
        "id": "JzhKViesRDiw",
        "colab_type": "code",
        "colab": {
          "base_uri": "https://localhost:8080/",
          "height": 126
        },
        "outputId": "23f4b59e-bd28-4149-a1fd-3508466e9f8a"
      },
      "source": [
        "import tensorflow as tf\n",
        "\n",
        "A = tf.constant([[1, 2], [3, 4]])\n",
        "B = tf.constant([[5, 6], [7, 8]])\n",
        "\n",
        "C = A + B # C = tf.add(A, B)\n",
        "D = A * B\n",
        "\n",
        "print(C)\n",
        "print(D)"
      ],
      "execution_count": 1,
      "outputs": [
        {
          "output_type": "stream",
          "text": [
            "tf.Tensor(\n",
            "[[ 6  8]\n",
            " [10 12]], shape=(2, 2), dtype=int32)\n",
            "tf.Tensor(\n",
            "[[ 5 12]\n",
            " [21 32]], shape=(2, 2), dtype=int32)\n"
          ],
          "name": "stdout"
        }
      ]
    },
    {
      "cell_type": "markdown",
      "metadata": {
        "id": "dJBlXdmg3_YQ",
        "colab_type": "text"
      },
      "source": [
        "##### matmul vs multiply"
      ]
    },
    {
      "cell_type": "code",
      "metadata": {
        "id": "xZtM1XCI4B41",
        "colab_type": "code",
        "colab": {
          "base_uri": "https://localhost:8080/",
          "height": 126
        },
        "outputId": "925b3693-5a48-4aa8-fa10-65fc0c48d741"
      },
      "source": [
        "A = tf.constant([[1, 2], [3, 4]])\n",
        "B = tf.constant([[5], [6]])\n",
        "\n",
        "print(tf.matmul(A, B))\n",
        "print(tf.multiply(A, B))"
      ],
      "execution_count": 2,
      "outputs": [
        {
          "output_type": "stream",
          "text": [
            "tf.Tensor(\n",
            "[[17]\n",
            " [39]], shape=(2, 1), dtype=int32)\n",
            "tf.Tensor(\n",
            "[[ 5 10]\n",
            " [18 24]], shape=(2, 2), dtype=int32)\n"
          ],
          "name": "stdout"
        }
      ]
    },
    {
      "cell_type": "markdown",
      "metadata": {
        "id": "wICGC83_l9bB",
        "colab_type": "text"
      },
      "source": [
        "#### 利用GradientTape求导"
      ]
    },
    {
      "cell_type": "code",
      "metadata": {
        "id": "6MOT91hTjNd7",
        "colab_type": "code",
        "colab": {
          "base_uri": "https://localhost:8080/",
          "height": 53
        },
        "outputId": "8db47185-09ad-4c7a-91c7-7ba47b01a20c"
      },
      "source": [
        "x = tf.Variable(initial_value=3.)\n",
        "\n",
        "with tf.GradientTape() as tape:\n",
        "  y = x**2  # y = tf.square(x)\n",
        "\n",
        "y_grad = tape.gradient(y, x)\n",
        "print(y)\n",
        "print(y_grad)"
      ],
      "execution_count": 3,
      "outputs": [
        {
          "output_type": "stream",
          "text": [
            "tf.Tensor(9.0, shape=(), dtype=float32)\n",
            "tf.Tensor(6.0, shape=(), dtype=float32)\n"
          ],
          "name": "stdout"
        }
      ]
    },
    {
      "cell_type": "code",
      "metadata": {
        "id": "ewImbMKlon75",
        "colab_type": "code",
        "colab": {
          "base_uri": "https://localhost:8080/",
          "height": 72
        },
        "outputId": "94e31198-5d05-4362-f6d9-244cbd6615b5"
      },
      "source": [
        "X = tf.constant([[1., 2.], [3., 4.]])\n",
        "y = tf.constant([[1.], [2.]])\n",
        "w = tf.Variable(initial_value=[[1.], [2.]])\n",
        "b = tf.Variable(initial_value=1.)\n",
        "\n",
        "# 计算L(w, b)关于w, b的偏导数\n",
        "with tf.GradientTape() as tape:\n",
        "    L = tf.reduce_sum(tf.square(tf.matmul(X, w) + b - y))\n",
        "w_grad, b_grad = tape.gradient(L, [w, b])        \n",
        "print(L, w_grad, b_grad)"
      ],
      "execution_count": 4,
      "outputs": [
        {
          "output_type": "stream",
          "text": [
            "tf.Tensor(125.0, shape=(), dtype=float32) tf.Tensor(\n",
            "[[ 70.]\n",
            " [100.]], shape=(2, 1), dtype=float32) tf.Tensor(30.0, shape=(), dtype=float32)\n"
          ],
          "name": "stdout"
        }
      ]
    }
  ]
}