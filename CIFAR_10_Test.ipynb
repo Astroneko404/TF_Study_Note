{
  "nbformat": 4,
  "nbformat_minor": 0,
  "metadata": {
    "colab": {
      "name": "CIFAR-10_Test.ipynb",
      "provenance": [],
      "authorship_tag": "ABX9TyOPYyr9hCi4XUXRlZVPmUbD",
      "include_colab_link": true
    },
    "kernelspec": {
      "name": "python3",
      "display_name": "Python 3"
    }
  },
  "cells": [
    {
      "cell_type": "markdown",
      "metadata": {
        "id": "view-in-github",
        "colab_type": "text"
      },
      "source": [
        "<a href=\"https://colab.research.google.com/github/Astroneko404/TF_Study_Note/blob/master/CIFAR_10_Test.ipynb\" target=\"_parent\"><img src=\"https://colab.research.google.com/assets/colab-badge.svg\" alt=\"Open In Colab\"/></a>"
      ]
    },
    {
      "cell_type": "code",
      "metadata": {
        "id": "5olfesm8qnSO",
        "colab_type": "code",
        "colab": {}
      },
      "source": [
        "import tensorflow as tf"
      ],
      "execution_count": 1,
      "outputs": []
    },
    {
      "cell_type": "code",
      "metadata": {
        "id": "U8Batr80rhQc",
        "colab_type": "code",
        "colab": {
          "base_uri": "https://localhost:8080/",
          "height": 128
        },
        "outputId": "64285827-d38f-41da-fff2-0eedae2d54ed"
      },
      "source": [
        "tf.config.experimental_run_functions_eagerly(True)\n",
        "(x_train, y_train), (x_test, y_test) = tf.keras.datasets.cifar10.load_data()"
      ],
      "execution_count": 2,
      "outputs": [
        {
          "output_type": "stream",
          "text": [
            "WARNING:tensorflow:From <ipython-input-2-322aad329d29>:1: experimental_run_functions_eagerly (from tensorflow.python.eager.def_function) is deprecated and will be removed in a future version.\n",
            "Instructions for updating:\n",
            "Use `tf.config.run_functions_eagerly` instead of the experimental version.\n",
            "Downloading data from https://www.cs.toronto.edu/~kriz/cifar-10-python.tar.gz\n",
            "170500096/170498071 [==============================] - 2s 0us/step\n"
          ],
          "name": "stdout"
        }
      ]
    },
    {
      "cell_type": "code",
      "metadata": {
        "id": "mqKdAf0Trxlb",
        "colab_type": "code",
        "colab": {
          "base_uri": "https://localhost:8080/",
          "height": 90
        },
        "outputId": "13a76ef7-3756-48da-ac9a-af9f39ad66ec"
      },
      "source": [
        "# Flattening\n",
        "x_train_flattened = x_train.reshape(x_train.shape[0], 32*32*3)\n",
        "x_test_flattened = x_test.reshape(x_test.shape[0], 32*32*3)\n",
        "\n",
        "# Gray-scale\n",
        "x_train_gray = tf.image.rgb_to_grayscale(x_train)\n",
        "x_test_gray = tf.image.rgb_to_grayscale(x_test)\n",
        "\n",
        "print(\"x_train:\", x_train.shape)\n",
        "print(\"x_test:\", x_test.shape)\n",
        "print(\"x_train_flattened:\", x_train_flattened.shape)\n",
        "print(\"x_train_grayscale:\", x_train_gray.shape)"
      ],
      "execution_count": 3,
      "outputs": [
        {
          "output_type": "stream",
          "text": [
            "x_train: (50000, 32, 32, 3)\n",
            "x_test: (10000, 32, 32, 3)\n",
            "x_train_flattened: (50000, 3072)\n",
            "x_train_grayscale: (50000, 32, 32, 1)\n"
          ],
          "name": "stdout"
        }
      ]
    },
    {
      "cell_type": "code",
      "metadata": {
        "id": "sKikBR2Lvs3F",
        "colab_type": "code",
        "colab": {
          "base_uri": "https://localhost:8080/",
          "height": 35
        },
        "outputId": "b67362fb-34be-413a-8bf5-d6c0d3d671be"
      },
      "source": [
        "print(\"y_train\", y_train.shape) # Labels ranging from 0 to 9"
      ],
      "execution_count": 4,
      "outputs": [
        {
          "output_type": "stream",
          "text": [
            "y_train (50000, 1)\n"
          ],
          "name": "stdout"
        }
      ]
    },
    {
      "cell_type": "code",
      "metadata": {
        "id": "G3KI9ugqw1SC",
        "colab_type": "code",
        "colab": {
          "base_uri": "https://localhost:8080/",
          "height": 271
        },
        "outputId": "0a71580f-ba3f-435d-a2ae-01d4dea02d9f"
      },
      "source": [
        "from tensorflow.keras import models, layers, optimizers\n",
        "\n",
        "inputs = layers.Input(shape=(32, 32), name='inputs')\n",
        "lstm_layer = layers.LSTM(units=256, return_sequences=False)(inputs)\n",
        "outputs = layers.Dense(10, activation='softmax')(lstm_layer)\n",
        "lstm = tf.keras.Model(inputs, outputs)\n",
        "\n",
        "lstm.compile(optimizer=tf.keras.optimizers.Adam(0.001),\n",
        "             loss='sparse_categorical_crossentropy',\n",
        "             metrics=['accuracy'])\n",
        "lstm.summary()"
      ],
      "execution_count": 5,
      "outputs": [
        {
          "output_type": "stream",
          "text": [
            "Model: \"functional_1\"\n",
            "_________________________________________________________________\n",
            "Layer (type)                 Output Shape              Param #   \n",
            "=================================================================\n",
            "inputs (InputLayer)          [(None, 32, 32)]          0         \n",
            "_________________________________________________________________\n",
            "lstm (LSTM)                  (None, 256)               295936    \n",
            "_________________________________________________________________\n",
            "dense (Dense)                (None, 10)                2570      \n",
            "=================================================================\n",
            "Total params: 298,506\n",
            "Trainable params: 298,506\n",
            "Non-trainable params: 0\n",
            "_________________________________________________________________\n"
          ],
          "name": "stdout"
        }
      ]
    },
    {
      "cell_type": "code",
      "metadata": {
        "id": "yVUAbPlr00NK",
        "colab_type": "code",
        "colab": {
          "base_uri": "https://localhost:8080/",
          "height": 291
        },
        "outputId": "eb670d61-badb-4332-85e9-4eb9dc87000a"
      },
      "source": [
        "lstm.fit(x_train_gray, y_train, batch_size=16, epochs=5, validation_split=0.1)\n",
        "lstm.evaluate(x_test_gray,  y_test, verbose=2)"
      ],
      "execution_count": 8,
      "outputs": [
        {
          "output_type": "stream",
          "text": [
            "Epoch 1/5\n",
            "\r   1/2813 [..............................] - ETA: 0s - loss: 2.1610 - accuracy: 0.2500"
          ],
          "name": "stdout"
        },
        {
          "output_type": "stream",
          "text": [
            "/usr/local/lib/python3.6/dist-packages/tensorflow/python/data/ops/dataset_ops.py:3350: UserWarning: Even though the tf.config.experimental_run_functions_eagerly option is set, this option does not apply to tf.data functions. tf.data functions are still traced and executed as graphs.\n",
            "  \"Even though the tf.config.experimental_run_functions_eagerly \"\n"
          ],
          "name": "stderr"
        },
        {
          "output_type": "stream",
          "text": [
            "2813/2813 [==============================] - 388s 138ms/step - loss: 2.2113 - accuracy: 0.1683 - val_loss: 2.2068 - val_accuracy: 0.1652\n",
            "Epoch 2/5\n",
            "2813/2813 [==============================] - 388s 138ms/step - loss: 2.2076 - accuracy: 0.1628 - val_loss: 2.2180 - val_accuracy: 0.1594\n",
            "Epoch 3/5\n",
            "2813/2813 [==============================] - 387s 138ms/step - loss: 2.1959 - accuracy: 0.1715 - val_loss: 2.1824 - val_accuracy: 0.1704\n",
            "Epoch 4/5\n",
            "2813/2813 [==============================] - 386s 137ms/step - loss: 2.1910 - accuracy: 0.1722 - val_loss: 2.1733 - val_accuracy: 0.1880\n",
            "Epoch 5/5\n",
            "2813/2813 [==============================] - 383s 136ms/step - loss: 2.1843 - accuracy: 0.1814 - val_loss: 2.1796 - val_accuracy: 0.1832\n",
            "313/313 - 16s - loss: 2.1841 - accuracy: 0.1804\n"
          ],
          "name": "stdout"
        },
        {
          "output_type": "execute_result",
          "data": {
            "text/plain": [
              "[2.1841166019439697, 0.18039999902248383]"
            ]
          },
          "metadata": {
            "tags": []
          },
          "execution_count": 8
        }
      ]
    }
  ]
}